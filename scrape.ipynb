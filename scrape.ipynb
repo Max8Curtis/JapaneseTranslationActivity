{
 "cells": [
  {
   "cell_type": "markdown",
   "metadata": {},
   "source": [
    "# Scrape data for Japanese Translation Activity project"
   ]
  },
  {
   "cell_type": "code",
   "execution_count": 2,
   "metadata": {},
   "outputs": [],
   "source": [
    "from bs4 import BeautifulSoup\n",
    "import pandas as pd\n",
    "import numpy as np\n",
    "import requests\n",
    "\n"
   ]
  },
  {
   "cell_type": "code",
   "execution_count": 17,
   "metadata": {},
   "outputs": [],
   "source": [
    "GRAMMAR_POINTS_URL = \"https://bunpro.jp/grammar_points\"\n",
    "headers = {}\n",
    "\n",
    "grammar_points_page = requests.get(GRAMMAR_POINTS_URL)\n",
    "\n",
    "soup = BeautifulSoup(grammar_points_page.text, 'html.parser')\n",
    "\n",
    "grammar_points_list = []\n",
    "\n",
    "for child in soup.find_all(attrs={\"class\":\"u-position_absolute u-inset_0\"}, recursive=True):\n",
    "    grammar_points_list.append(child.attrs[\"href\"])\n",
    "\n",
    "\n"
   ]
  },
  {
   "cell_type": "code",
   "execution_count": 19,
   "metadata": {},
   "outputs": [
    {
     "name": "stdout",
     "output_type": "stream",
     "text": [
      "938\n"
     ]
    }
   ],
   "source": [
    "print(len(grammar_points_list))"
   ]
  }
 ],
 "metadata": {
  "kernelspec": {
   "display_name": "base",
   "language": "python",
   "name": "python3"
  },
  "language_info": {
   "codemirror_mode": {
    "name": "ipython",
    "version": 3
   },
   "file_extension": ".py",
   "mimetype": "text/x-python",
   "name": "python",
   "nbconvert_exporter": "python",
   "pygments_lexer": "ipython3",
   "version": "3.11.5"
  }
 },
 "nbformat": 4,
 "nbformat_minor": 2
}
